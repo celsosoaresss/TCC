{
  "nbformat": 4,
  "nbformat_minor": 0,
  "metadata": {
    "colab": {
      "provenance": [],
      "authorship_tag": "ABX9TyNTtDiQG7yHlX3gmQID7N29",
      "include_colab_link": true
    },
    "kernelspec": {
      "name": "python3",
      "display_name": "Python 3"
    },
    "language_info": {
      "name": "python"
    }
  },
  "cells": [
    {
      "cell_type": "markdown",
      "metadata": {
        "id": "view-in-github",
        "colab_type": "text"
      },
      "source": [
        "<a href=\"https://colab.research.google.com/github/celsosoaresss/TCC/blob/main/TCC_Emotion_Class.ipynb\" target=\"_parent\"><img src=\"https://colab.research.google.com/assets/colab-badge.svg\" alt=\"Open In Colab\"/></a>"
      ]
    },
    {
      "cell_type": "markdown",
      "source": [
        "# **IMPORTAÇÃO DE BIBLIOTECAS NECESSÁRIAS**"
      ],
      "metadata": {
        "id": "eHMn9WtwwtBJ"
      }
    },
    {
      "cell_type": "code",
      "execution_count": null,
      "metadata": {
        "id": "4q5yKnZTwhGo"
      },
      "outputs": [],
      "source": [
        "import cv2\n",
        "import numpy as np\n",
        "import matplotlib.pyplot as plt\n",
        "import seaborn as sns\n",
        "from google.colab.patches import cv2_imshow\n",
        "import tensorflow as tf\n",
        "from tensorflow.keras.preprocessing.image import ImageDataGenerator\n",
        "from tensorflow.keras.models import Sequential\n",
        "from tensorflow.keras.layers import Dense, Dropout, Conv2D, MaxPooling2D, Flatten, BatchNormalization\n",
        "\n",
        "from google.colab import drive\n",
        "drive.mount('/content/drive')"
      ]
    },
    {
      "cell_type": "markdown",
      "source": [
        "# **PRÉ-PROCESSAMENTO**"
      ],
      "metadata": {
        "id": "63PNE6cywy8d"
      }
    },
    {
      "cell_type": "code",
      "source": [
        "#BASE DE TREINO\n",
        "gerador_treinamento = ImageDataGenerator(rescale=1./255,\n",
        "                                         rotation_range=7,\n",
        "                                         horizontal_flip=True,\n",
        "                                         zoom_range=0.2)\n",
        "\n",
        "dataset_treinamento = gerador_treinamento.flow_from_directory('/content/drive/MyDrive/emotion_class/images/images/train',\n",
        "                                                              target_size = (48, 48),\n",
        "                                                              batch_size = 16,\n",
        "                                                              class_mode = 'categorical',\n",
        "                                                              shuffle = True)\n",
        "\n",
        "#BASE DE TESTE\n",
        "gerador_teste = ImageDataGenerator(rescale=1./255)\n",
        ""
      ],
      "metadata": {
        "id": "KEmTNRCew2TP"
      },
      "execution_count": null,
      "outputs": []
    },
    {
      "cell_type": "markdown",
      "source": [
        "# **CONTRUÇÃO E TREINAMENTO DA CNN**"
      ],
      "metadata": {
        "id": "Eu4Q3G-9xLUe"
      }
    },
    {
      "cell_type": "code",
      "source": [
        "numero_detectores = 32\n",
        "numero_classes = 7\n",
        "largura, altura = 48, 48\n",
        "epocas = 70\n",
        "\n",
        "network = Sequential()\n",
        "network.add(Conv2D(filters=numero_detectores, kernel_size=(3,3), activation='relu', padding='same', input_shape=(largura, altura, 3)))\n",
        "network.add(BatchNormalization())\n",
        "network.add(Conv2D(filters=numero_detectores, kernel_size=(3,3), activation='relu', padding='same'))\n",
        "network.add(BatchNormalization())\n",
        "network.add(MaxPooling2D(pool_size=(2,2)))\n",
        "network.add(Dropout(0.2))\n",
        "\n",
        "network.add(Conv2D(filters=2*numero_detectores, kernel_size=(3,3), activation='relu', padding='same'))\n",
        "network.add(BatchNormalization())\n",
        "network.add(Conv2D(filters=2*numero_detectores, kernel_size=(3,3), activation='relu', padding='same'))\n",
        "network.add(BatchNormalization())\n",
        "network.add(MaxPooling2D(pool_size=(2,2)))\n",
        "network.add(Dropout(0.2))\n",
        "\n",
        "network.add(Conv2D(filters=2*2*numero_detectores, kernel_size=(3,3), activation='relu', padding='same'))\n",
        "network.add(BatchNormalization())\n",
        "network.add(Conv2D(filters=2*2*numero_detectores, kernel_size=(3,3), activation='relu', padding='same'))\n",
        "network.add(BatchNormalization())\n",
        "network.add(MaxPooling2D(pool_size=(2,2)))\n",
        "network.add(Dropout(0.2))\n",
        "\n",
        "network.add(Conv2D(filters=2*2*2*numero_detectores, kernel_size=(3,3), activation='relu', padding='same'))\n",
        "network.add(BatchNormalization())\n",
        "network.add(Conv2D(filters=2*2*2*numero_detectores, kernel_size=(3,3), activation='relu', padding='same'))\n",
        "network.add(BatchNormalization())\n",
        "network.add(MaxPooling2D(pool_size=(2,2)))\n",
        "network.add(Dropout(0.2))\n",
        "\n",
        "\n",
        "network.add(Flatten())\n",
        "\n",
        "\n",
        "network.add(Dense(units=2 * numero_detectores, activation='relu'))\n",
        "network.add(BatchNormalization())\n",
        "network.add(Dropout(0.2))\n",
        "\n",
        "\n",
        "network.add(Dense(units=2 * numero_detectores, activation='relu'))\n",
        "network.add(BatchNormalization())\n",
        "network.add(Dropout(0.2))\n",
        "\n",
        "network.add(Dense(units=numero_classes, activation='softmax'))\n",
        "print(network.summary())"
      ],
      "metadata": {
        "id": "WlUg2Q7Hw67u"
      },
      "execution_count": null,
      "outputs": []
    },
    {
      "cell_type": "code",
      "source": [
        "network.compile(optimizer='Adam', loss='categorical_crossentropy', metrics=['accuracy'])"
      ],
      "metadata": {
        "id": "WAUGWot-xmwT"
      },
      "execution_count": null,
      "outputs": []
    },
    {
      "cell_type": "code",
      "source": [
        "#network.fit(dataset_treinamento, epochs=epocas)"
      ],
      "metadata": {
        "id": "DewrvZfCxmtc"
      },
      "execution_count": null,
      "outputs": []
    },
    {
      "cell_type": "code",
      "source": [
        "with open('/content/drive/MyDrive/network_emotions/network_emotions.json', 'r') as json_file:\n",
        "  json_saved_model = json_file.read()\n",
        "json_saved_model"
      ],
      "metadata": {
        "id": "TvLWlDI2xmqn"
      },
      "execution_count": null,
      "outputs": []
    },
    {
      "cell_type": "code",
      "source": [
        "network_loaded = tf.keras.models.model_from_json(json_saved_model)\n",
        "network_loaded.load_weights('/content/drive/MyDrive/network_emotions/weights_emotions.hdf5')\n",
        "network_loaded.compile(loss = 'categorical_crossentropy', optimizer='Adam', metrics=['accuracy'])"
      ],
      "metadata": {
        "id": "_YeB-oThxmnv"
      },
      "execution_count": null,
      "outputs": []
    },
    {
      "cell_type": "code",
      "source": [
        "network_loaded.summary()"
      ],
      "metadata": {
        "id": "0wZEXDegxxW8"
      },
      "execution_count": null,
      "outputs": []
    },
    {
      "cell_type": "markdown",
      "source": [
        "# **AVALIAÇÃO DA REDE NEURAL**"
      ],
      "metadata": {
        "id": "1DjSYjyAx098"
      }
    },
    {
      "cell_type": "code",
      "source": [
        "network_loaded.evaluate(dataset_teste)"
      ],
      "metadata": {
        "id": "RBIwG-drxxUg"
      },
      "execution_count": null,
      "outputs": []
    },
    {
      "cell_type": "code",
      "source": [
        "previsoes = network_loaded.predict(dataset_teste)\n",
        "previsoes"
      ],
      "metadata": {
        "id": "HgaoH9cfxxRe"
      },
      "execution_count": null,
      "outputs": []
    },
    {
      "cell_type": "code",
      "source": [
        "from sklearn.metrics import accuracy_score\n",
        "accuracy_score(dataset_teste.classes, previsoes)"
      ],
      "metadata": {
        "id": "iWRkQTZsxxOh"
      },
      "execution_count": null,
      "outputs": []
    },
    {
      "cell_type": "code",
      "source": [
        "from sklearn.metrics import confusion_matrix\n",
        "cm = confusion_matrix(dataset_teste.classes, previsoes)\n",
        "cm"
      ],
      "metadata": {
        "id": "xzUmMCmqxxLd"
      },
      "execution_count": null,
      "outputs": []
    },
    {
      "cell_type": "code",
      "source": [
        "sns.heatmap(cm, annot=True);"
      ],
      "metadata": {
        "id": "LM4n_5XkxxIz"
      },
      "execution_count": null,
      "outputs": []
    },
    {
      "cell_type": "code",
      "source": [
        "from sklearn.metrics import classification_report\n",
        "print(classification_report(dataset_teste.classes, previsoes))"
      ],
      "metadata": {
        "id": "fkiFHE9pxxFt"
      },
      "execution_count": null,
      "outputs": []
    },
    {
      "cell_type": "markdown",
      "source": [
        "# **CLASSIFICAÇÃO DE IMAGEM FORA DO CONJUNTO DE TREINO E TESTE**"
      ],
      "metadata": {
        "id": "1jHt-XbNyHj0"
      }
    },
    {
      "cell_type": "code",
      "source": [
        "imagem = cv2.imread('/content/drive/MyDrive/fotos para teste/WhatsApp Image 2023-03-08 at 11.12.18.jpeg')\n",
        "cv2_imshow(imagem)"
      ],
      "metadata": {
        "id": "TXRYdNw_xxCV"
      },
      "execution_count": null,
      "outputs": []
    },
    {
      "cell_type": "code",
      "source": [
        "detector_face = cv2.CascadeClassifier('/content/drive/MyDrive/fotos para teste/haarcascade_frontalface_default.xml')"
      ],
      "metadata": {
        "id": "ecQQC2qfyNOs"
      },
      "execution_count": null,
      "outputs": []
    },
    {
      "cell_type": "code",
      "source": [
        "imagem_original = imagem.copy()\n",
        "deteccoes = detector_face.detectMultiScale(imagem_original)"
      ],
      "metadata": {
        "id": "BFx-5AVsyNMF"
      },
      "execution_count": null,
      "outputs": []
    },
    {
      "cell_type": "code",
      "source": [
        "roi = imagem[258:258 + 288,  236:236 + 288]\n",
        "cv2_imshow(roi)"
      ],
      "metadata": {
        "id": "iDZHEN61yNJX"
      },
      "execution_count": null,
      "outputs": []
    },
    {
      "cell_type": "code",
      "source": [
        "roi = cv2.resize(roi, (48,48))\n",
        "cv2_imshow(roi)"
      ],
      "metadata": {
        "id": "s012baHoyNF3"
      },
      "execution_count": null,
      "outputs": []
    },
    {
      "cell_type": "code",
      "source": [
        "probs = network_loaded.predict(roi)\n",
        "probs"
      ],
      "metadata": {
        "id": "-8NVOcCeyNCh"
      },
      "execution_count": null,
      "outputs": []
    },
    {
      "cell_type": "code",
      "source": [
        "previsao = np.argmax(probs)\n",
        "previsao"
      ],
      "metadata": {
        "id": "VojT-H3DyM_j"
      },
      "execution_count": null,
      "outputs": []
    },
    {
      "cell_type": "markdown",
      "source": [
        "# **CLASSIFICAÇÃO EM VÍDEO**"
      ],
      "metadata": {
        "id": "rtNr2hk4yvHL"
      }
    },
    {
      "cell_type": "code",
      "source": [
        "cap = cv2.VideoCapture('/content/drive/MyDrive/fotos para teste/IMG_3133.MOV')\n",
        "conectado, video = cap.read()\n",
        "print(conectado, video.shape)"
      ],
      "metadata": {
        "id": "xsVMKvnFyM8t"
      },
      "execution_count": null,
      "outputs": []
    },
    {
      "cell_type": "code",
      "source": [
        "save_path = '/content/drive/MyDrive/fotos para teste/IMG_3133_result.avi'\n",
        "fourcc = cv2.VideoWriter_fourcc(*'XVID')\n",
        "fps = 24\n",
        "output_video = cv2.VideoWriter(save_path, fourcc, fps, (video.shape[1], video.shape[0]))"
      ],
      "metadata": {
        "id": "qW5HNlwsyM5v"
      },
      "execution_count": null,
      "outputs": []
    },
    {
      "cell_type": "code",
      "source": [
        "emotions = ['Angry', 'Disgust', 'Fear', 'Happy', 'Neutral', 'Sad', 'Surprise']"
      ],
      "metadata": {
        "id": "MKRoFkkxyM3J"
      },
      "execution_count": null,
      "outputs": []
    },
    {
      "cell_type": "code",
      "source": [
        "while (cv2.waitKey(1) < 0):\n",
        "  conectado, frame = cap.read()\n",
        "  if not conectado:\n",
        "    break\n",
        "  deteccoes = detector_face.detectMultiScale(frame, scaleFactor=1.2,minNeighbors=5, minSize=(30,30))\n",
        "  if len(deteccoes) > 0:\n",
        "    for (x, y, w, h) in deteccoes:\n",
        "      frame = cv2.rectangle(frame, (x, y), (x + w, y + h), (0,255,0), 2)\n",
        "      roi = frame[y:y + h, x:x + w]\n",
        "      roi = cv2.resize(roi, (48,48))\n",
        "      roi = roi / 255\n",
        "      roi = np.expand_dims(roi, axis = 0)\n",
        "      previsao = network_loaded.predict(roi)\n",
        "\n",
        "      if previsao is not None:\n",
        "        resultado = np.argmax(previsao)\n",
        "        cv2.putText(frame, emotions[resultado], (x, y - 10), cv2.FONT_HERSHEY_SIMPLEX, 0.5, (0,255,0), 1, cv2.LINE_AA)\n",
        "\n",
        "  cv2_imshow(frame)\n",
        "  output_video.write(frame)\n",
        "\n",
        "print('Terminou!')\n",
        "output_video.release()\n",
        "cv2.destroyAllWindows()"
      ],
      "metadata": {
        "id": "uv4bXlS4yMz5"
      },
      "execution_count": null,
      "outputs": []
    }
  ]
}